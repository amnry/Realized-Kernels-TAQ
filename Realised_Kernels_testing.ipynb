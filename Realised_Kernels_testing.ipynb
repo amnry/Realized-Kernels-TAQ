{
 "cells": [
  {
   "cell_type": "markdown",
   "metadata": {},
   "source": [
    "# Realised Kernels in Practice: Trades and Quotes\n",
    "## Jay Walke & Aman Arya"
   ]
  },
  {
   "cell_type": "code",
   "execution_count": 1,
   "metadata": {},
   "outputs": [],
   "source": [
    "import numpy as np\n",
    "import pandas as pd\n",
    "import matplotlib.pyplot as plt\n",
    "import random"
   ]
  },
  {
   "cell_type": "markdown",
   "metadata": {},
   "source": [
    "We consider the case where Y is a Brownian semimartingale plus Jump process ($\\mathcal{BMSJ}$),\n",
    "\n",
    "$$ Y_{t}=\\int_{0}^{t} x_{u}\\mathrm{d}u+\\int_{0}^{t}\\sigma_{u}\\mathrm{d}W_{u}+J_{t} $$\n",
    "\n",
    "where,  \n",
    "  \n",
    "$J_{t} = \\sum_{i=1}^{N_{t}}C_{i} $ is a finite activity jump process  \n",
    "$a$ is a predictable locally bounded drift  \n",
    "$\\sigma$ is a $c\\grave{a}dl\\grave{a}g$ volatility process  \n",
    "$W$ is a Brownian motion  \n",
    "  \n",
    "Our object of interest in the quadratic variation of $Y$, \n",
    "$$ [Y]=\\int_{0}^{T}\\sigma_{u}^{2}\\mathrm{d}u+\\sum_{i=1}^{N_{T}}C_{i}^{2} $$\n",
    "\n",
    "where,  \n",
    "  \n",
    "$ \\textstyle\\int_{0}^{T}\\sigma_{u}^{2}du $ is the integrated variance. We estimate it from Observations,\n",
    "\n",
    "$$ X_{\\tau_{0}},...,X_{\\tau_{n}},\\ \\ \\ 0=\\tau_{0}<\\tau_{1}<\\ldots<\\tau_{n}=T $$\n",
    "  \n",
    "where $X_{\\tau_{j}}$ is a noisy observation of $ Y_{\\tau_{j}} $ i.e.\n",
    "\n",
    "$$ X_{\\tau_{j}} = Y_{\\tau_{j}} + U_{\\tau_{j}} $$\n",
    "\n",
    "Our estimator takes the form,\n",
    "\n",
    "$$ K(X)=\\sum_{h=-H}^{H}k\\left(\\frac{h}{H+1}\\right)\\gamma_{h}, $$\n",
    "\n",
    "where,  \n",
    "$$ k(x)= \\begin{cases}\n",
    "    1-6x^{2} + 6x^{3} & 0 \\leq x \\leq 1/2 \\\\\n",
    "    2(1-x)^{3} & 1/2 \\leq x \\leq 1\\\\\n",
    "    0 & x > 1.\n",
    "    \\end{cases}$$\n",
    "$$ \\gamma_{h}=\\sum_{j=|h|+1}^{h}X_{j}X_{j-|h|}, $$"
   ]
  },
  {
   "cell_type": "code",
   "execution_count": 4,
   "metadata": {},
   "outputs": [
    {
     "name": "stdout",
     "output_type": "stream",
     "text": [
      "Total number of Rows: 56978\n"
     ]
    }
   ],
   "source": [
    "# Loading Data\n",
    "# path_trades = \"D:\\\\Practice\\\\Python\\\\TAQ-Query-Scripts-Public\\\\data\\\\trades_AA_20200801-20200805.csv\"\n",
    "path_trades = \"/Users/amanarya/sem_1/AMS-520/my_data/trades_AA_20200801-20200805.csv\"\n",
    "raw_trade_data = pd.read_csv(path_trades, usecols=['Time', 'Exchange','Trade_Price','Trade_Correction_Indicator'])\n",
    "raw_trade_data['Time'] = pd.to_datetime(raw_trade_data['Time'],format=\"%Y-%m-%d %H:%M:%S.%f\")\n",
    "raw_trade_data.set_index('Time',inplace=True)\n",
    "l = len(raw_trade_data)\n",
    "print(f'Total number of Rows: {l}')\n",
    "raw_trade_data.head(10)\n",
    "df=raw_trade_data"
   ]
  },
  {
   "cell_type": "code",
   "execution_count": 5,
   "metadata": {},
   "outputs": [
    {
     "data": {
      "text/plain": [
       "Exchange\n",
       "D    15076\n",
       "T    11473\n",
       "Z     5530\n",
       "P     5374\n",
       "K     5232\n",
       "N     4785\n",
       "J     2355\n",
       "C     2045\n",
       "Y     1854\n",
       "V     1789\n",
       "B      722\n",
       "X      525\n",
       "A      217\n",
       "M        1\n",
       "Name: count, dtype: int64"
      ]
     },
     "execution_count": 5,
     "metadata": {},
     "output_type": "execute_result"
    }
   ],
   "source": [
    "df['Exchange'].value_counts()"
   ]
  },
  {
   "cell_type": "code",
   "execution_count": 8,
   "metadata": {},
   "outputs": [
    {
     "data": {
      "text/plain": [
       "Index(['Exchange', 'Trade_Price', 'Trade_Correction_Indicator'], dtype='object')"
      ]
     },
     "execution_count": 8,
     "metadata": {},
     "output_type": "execute_result"
    }
   ],
   "source": [
    "# df['Symbol'].value_counts()\n",
    "df.columns"
   ]
  },
  {
   "cell_type": "code",
   "execution_count": 6,
   "metadata": {},
   "outputs": [
    {
     "name": "stdout",
     "output_type": "stream",
     "text": [
      "Total Rows removed: 52193\n",
      "Total no. of Rows: 4785\n"
     ]
    },
    {
     "data": {
      "text/html": [
       "<div>\n",
       "<style scoped>\n",
       "    .dataframe tbody tr th:only-of-type {\n",
       "        vertical-align: middle;\n",
       "    }\n",
       "\n",
       "    .dataframe tbody tr th {\n",
       "        vertical-align: top;\n",
       "    }\n",
       "\n",
       "    .dataframe thead th {\n",
       "        text-align: right;\n",
       "    }\n",
       "</style>\n",
       "<table border=\"1\" class=\"dataframe\">\n",
       "  <thead>\n",
       "    <tr style=\"text-align: right;\">\n",
       "      <th></th>\n",
       "      <th>Exchange</th>\n",
       "      <th>Trade_Price</th>\n",
       "      <th>Trade_Correction_Indicator</th>\n",
       "    </tr>\n",
       "    <tr>\n",
       "      <th>Time</th>\n",
       "      <th></th>\n",
       "      <th></th>\n",
       "      <th></th>\n",
       "    </tr>\n",
       "  </thead>\n",
       "  <tbody>\n",
       "    <tr>\n",
       "      <th>2020-08-03 09:30:00.788503</th>\n",
       "      <td>N</td>\n",
       "      <td>13.08</td>\n",
       "      <td>0</td>\n",
       "    </tr>\n",
       "    <tr>\n",
       "      <th>2020-08-03 09:30:00.788503</th>\n",
       "      <td>N</td>\n",
       "      <td>13.08</td>\n",
       "      <td>0</td>\n",
       "    </tr>\n",
       "    <tr>\n",
       "      <th>2020-08-03 09:30:04.785706</th>\n",
       "      <td>N</td>\n",
       "      <td>13.05</td>\n",
       "      <td>0</td>\n",
       "    </tr>\n",
       "    <tr>\n",
       "      <th>2020-08-03 09:30:11.006512</th>\n",
       "      <td>N</td>\n",
       "      <td>13.02</td>\n",
       "      <td>0</td>\n",
       "    </tr>\n",
       "    <tr>\n",
       "      <th>2020-08-03 09:30:11.007406</th>\n",
       "      <td>N</td>\n",
       "      <td>13.00</td>\n",
       "      <td>0</td>\n",
       "    </tr>\n",
       "    <tr>\n",
       "      <th>2020-08-03 09:30:11.007559</th>\n",
       "      <td>N</td>\n",
       "      <td>13.00</td>\n",
       "      <td>0</td>\n",
       "    </tr>\n",
       "    <tr>\n",
       "      <th>2020-08-03 09:30:11.007639</th>\n",
       "      <td>N</td>\n",
       "      <td>13.00</td>\n",
       "      <td>0</td>\n",
       "    </tr>\n",
       "    <tr>\n",
       "      <th>2020-08-03 09:30:15.100344</th>\n",
       "      <td>N</td>\n",
       "      <td>13.01</td>\n",
       "      <td>0</td>\n",
       "    </tr>\n",
       "    <tr>\n",
       "      <th>2020-08-03 09:30:20.583388</th>\n",
       "      <td>N</td>\n",
       "      <td>13.01</td>\n",
       "      <td>0</td>\n",
       "    </tr>\n",
       "    <tr>\n",
       "      <th>2020-08-03 09:31:12.591431</th>\n",
       "      <td>N</td>\n",
       "      <td>13.04</td>\n",
       "      <td>0</td>\n",
       "    </tr>\n",
       "  </tbody>\n",
       "</table>\n",
       "</div>"
      ],
      "text/plain": [
       "                           Exchange  Trade_Price  Trade_Correction_Indicator\n",
       "Time                                                                        \n",
       "2020-08-03 09:30:00.788503        N        13.08                           0\n",
       "2020-08-03 09:30:00.788503        N        13.08                           0\n",
       "2020-08-03 09:30:04.785706        N        13.05                           0\n",
       "2020-08-03 09:30:11.006512        N        13.02                           0\n",
       "2020-08-03 09:30:11.007406        N        13.00                           0\n",
       "2020-08-03 09:30:11.007559        N        13.00                           0\n",
       "2020-08-03 09:30:11.007639        N        13.00                           0\n",
       "2020-08-03 09:30:15.100344        N        13.01                           0\n",
       "2020-08-03 09:30:20.583388        N        13.01                           0\n",
       "2020-08-03 09:31:12.591431        N        13.04                           0"
      ]
     },
     "execution_count": 6,
     "metadata": {},
     "output_type": "execute_result"
    }
   ],
   "source": [
    "raw_trade_data = raw_trade_data[raw_trade_data['Exchange'] == 'N']\n",
    "print(f'Total Rows removed: {l-len(raw_trade_data)}')\n",
    "print(f'Total no. of Rows: {len(raw_trade_data)}')\n",
    "l = len(raw_trade_data)\n",
    "raw_trade_data.head(10)"
   ]
  },
  {
   "cell_type": "code",
   "execution_count": 7,
   "metadata": {},
   "outputs": [
    {
     "name": "stdout",
     "output_type": "stream",
     "text": [
      "Total no. of Rows: 4769\n",
      "Total rows removed: 16\n"
     ]
    }
   ],
   "source": [
    "# Filters\n",
    "raw_trade_data = raw_trade_data.between_time('9:30', '16:00')\n",
    "print(f'Total no. of Rows: {len(raw_trade_data)}')\n",
    "print(f'Total rows removed: {l-len(raw_trade_data)}')\n",
    "l = len(raw_trade_data)"
   ]
  },
  {
   "cell_type": "code",
   "execution_count": 8,
   "metadata": {},
   "outputs": [
    {
     "name": "stdout",
     "output_type": "stream",
     "text": [
      "Length of Data after P1 filter: 4769\n",
      "Total rows removed: 0\n"
     ]
    }
   ],
   "source": [
    "raw_trade_data = raw_trade_data[raw_trade_data['Trade_Correction_Indicator'] == 0]\n",
    "print(f'Length of Data after P1 filter: {len(raw_trade_data)}')\n",
    "print(f'Total rows removed: {l-len(raw_trade_data)}')\n",
    "l = len(raw_trade_data)"
   ]
  },
  {
   "cell_type": "code",
   "execution_count": 9,
   "metadata": {},
   "outputs": [
    {
     "name": "stdout",
     "output_type": "stream",
     "text": [
      "Final no. of rows: 4680\n",
      "Rows removed: 89\n"
     ]
    },
    {
     "data": {
      "text/html": [
       "<div>\n",
       "<style scoped>\n",
       "    .dataframe tbody tr th:only-of-type {\n",
       "        vertical-align: middle;\n",
       "    }\n",
       "\n",
       "    .dataframe tbody tr th {\n",
       "        vertical-align: top;\n",
       "    }\n",
       "\n",
       "    .dataframe thead th {\n",
       "        text-align: right;\n",
       "    }\n",
       "</style>\n",
       "<table border=\"1\" class=\"dataframe\">\n",
       "  <thead>\n",
       "    <tr style=\"text-align: right;\">\n",
       "      <th></th>\n",
       "      <th>Trade_Price</th>\n",
       "    </tr>\n",
       "    <tr>\n",
       "      <th>Time</th>\n",
       "      <th></th>\n",
       "    </tr>\n",
       "  </thead>\n",
       "  <tbody>\n",
       "    <tr>\n",
       "      <th>2020-08-04 15:59:58.144610</th>\n",
       "      <td>13.66</td>\n",
       "    </tr>\n",
       "    <tr>\n",
       "      <th>2020-08-04 15:59:58.650451</th>\n",
       "      <td>13.67</td>\n",
       "    </tr>\n",
       "    <tr>\n",
       "      <th>2020-08-04 15:59:58.699221</th>\n",
       "      <td>13.67</td>\n",
       "    </tr>\n",
       "    <tr>\n",
       "      <th>2020-08-04 15:59:58.700078</th>\n",
       "      <td>13.67</td>\n",
       "    </tr>\n",
       "    <tr>\n",
       "      <th>2020-08-04 15:59:58.897863</th>\n",
       "      <td>13.67</td>\n",
       "    </tr>\n",
       "  </tbody>\n",
       "</table>\n",
       "</div>"
      ],
      "text/plain": [
       "                            Trade_Price\n",
       "Time                                   \n",
       "2020-08-04 15:59:58.144610        13.66\n",
       "2020-08-04 15:59:58.650451        13.67\n",
       "2020-08-04 15:59:58.699221        13.67\n",
       "2020-08-04 15:59:58.700078        13.67\n",
       "2020-08-04 15:59:58.897863        13.67"
      ]
     },
     "execution_count": 9,
     "metadata": {},
     "output_type": "execute_result"
    }
   ],
   "source": [
    "raw_trade_data\n",
    "trade_data = raw_trade_data[['Trade_Price']].copy()\n",
    "trade_data_filtered = trade_data.groupby(trade_data.index).median()\n",
    "print(f'Final no. of rows: {len(trade_data_filtered)}')\n",
    "print(f'Rows removed: {l-len(trade_data_filtered)}')\n",
    "trade_data_filtered.tail()"
   ]
  },
  {
   "cell_type": "code",
   "execution_count": 10,
   "metadata": {},
   "outputs": [],
   "source": [
    "data = []\n",
    "for date in sorted(list(set(trade_data.index.date))):\n",
    "    data.append(trade_data[trade_data.index.date == date])"
   ]
  },
  {
   "cell_type": "code",
   "execution_count": 11,
   "metadata": {},
   "outputs": [
    {
     "data": {
      "text/plain": [
       "<Axes: xlabel='Time', ylabel='Price'>"
      ]
     },
     "execution_count": 11,
     "metadata": {},
     "output_type": "execute_result"
    },
    {
     "data": {
      "image/png": "[encoded data removed]",
      "text/plain": [
       "<Figure size 1400x800 with 1 Axes>"
      ]
     },
     "metadata": {},
     "output_type": "display_data"
    }
   ],
   "source": [
    "df = data[0].copy()\n",
    "df['Time'] = df.index.time\n",
    "# plt.figure(figsize=(10,8))\n",
    "# plt.plot(df.index.time, df['Trade_Price'],'bo',markersize = 1)\n",
    "df.plot(x='Time',y='Trade_Price',figsize = (14,8),ylabel = 'Price')"
   ]
  },
  {
   "cell_type": "code",
   "execution_count": 12,
   "metadata": {},
   "outputs": [],
   "source": [
    "class Data:\n",
    "    def __init__(self, trade_dir, quote_dir):\n",
    "        self.raw_trades = pd.read_csv(trade_dir)\n",
    "        # self.raw_quotes = pd.read_csv(quote_dir)\n",
    "\n",
    "        self.raw_trade_data = self.raw_trades.copy()\n",
    "        # self.raw_quote_data = self.raw_quotes.copy()\n",
    "\n",
    "        self.filtered_trade_data = None\n",
    "        self.filtered_quote_data = None\n",
    "        self.trade_transaction_prices = None\n",
    "\n",
    "    \n",
    "    def get_filtered_trade_data(self):\n",
    "        # Filters\n",
    "        self.raw_trade_data['Time'] = pd.to_datetime(self.raw_trade_data['Time'],format=\"%Y-%m-%d %H:%M:%S.%f\")\n",
    "        self.raw_trade_data.set_index('Time',inplace=True)\n",
    "        self.raw_trade_data.head(10)\n",
    "        self.raw_trade_data = self.raw_trade_data.between_time('9:30', '16:00')\n",
    "        self.raw_trade_data = self.raw_trade_data[self.raw_trade_data['Trade_Correction_Indicator'] == 0]\n",
    "        self.raw_trade_data = self.raw_trade_data[self.raw_trade_data['Exchange'] == 'N']\n",
    "        trade_data = self.raw_trade_data[['Trade_Price']].copy()\n",
    "        self.filtered_trade_data = (trade_data.groupby(trade_data.index).median())\n",
    "        self.trade_transaction_prices = self.filtered_trade_data.to_numpy()\n",
    "        return self.filtered_trade_data, self.filtered_quote_data\n"
   ]
  },
  {
   "cell_type": "code",
   "execution_count": 15,
   "metadata": {},
   "outputs": [],
   "source": [
    "filtered_trade_data = Data(path_trades,None).get_filtered_trade_data()"
   ]
  },
  {
   "cell_type": "code",
   "execution_count": 16,
   "metadata": {},
   "outputs": [],
   "source": [
    "from realised_kernels import RealisedKernel"
   ]
  },
  {
   "cell_type": "code",
   "execution_count": 18,
   "metadata": {},
   "outputs": [
    {
     "name": "stdout",
     "output_type": "stream",
     "text": [
      "Kernel Estimate: 0.01069274999999997\n"
     ]
    }
   ],
   "source": [
    "RealisedKernel(path_trades,None).KernelEstimator()"
   ]
  }
 ],
 "metadata": {
  "kernelspec": {
   "display_name": "pyvenv",
   "language": "python",
   "name": "python3"
  },
  "language_info": {
   "codemirror_mode": {
    "name": "ipython",
    "version": 3
   },
   "file_extension": ".py",
   "mimetype": "text/x-python",
   "name": "python",
   "nbconvert_exporter": "python",
   "pygments_lexer": "ipython3",
   "version": "3.11.4"
  }
 },
 "nbformat": 4,
 "nbformat_minor": 2
}
